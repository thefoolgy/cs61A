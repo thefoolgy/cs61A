{
 "cells": [
  {
   "cell_type": "code",
   "execution_count": 1,
   "id": "bfb44811",
   "metadata": {},
   "outputs": [],
   "source": [
    "def exp(b,n):\n",
    "    if n == 0:\n",
    "        return 1\n",
    "    else:\n",
    "        return b * exp(b, n-1)"
   ]
  },
  {
   "cell_type": "code",
   "execution_count": 2,
   "id": "fcb6ef72",
   "metadata": {},
   "outputs": [
    {
     "name": "stdout",
     "output_type": "stream",
     "text": [
      "CPU times: user 90 µs, sys: 58 µs, total: 148 µs\n",
      "Wall time: 154 µs\n"
     ]
    },
    {
     "data": {
      "text/plain": [
       "1606938044258990275541962092341162602522202993782792835301376"
      ]
     },
     "execution_count": 2,
     "metadata": {},
     "output_type": "execute_result"
    }
   ],
   "source": [
    "%%time\n",
    "exp(2,200)"
   ]
  }
 ],
 "metadata": {
  "kernelspec": {
   "display_name": "Python 3 (ipykernel)",
   "language": "python",
   "name": "python3"
  },
  "language_info": {
   "codemirror_mode": {
    "name": "ipython",
    "version": 3
   },
   "file_extension": ".py",
   "mimetype": "text/x-python",
   "name": "python",
   "nbconvert_exporter": "python",
   "pygments_lexer": "ipython3",
   "version": "3.9.7"
  }
 },
 "nbformat": 4,
 "nbformat_minor": 5
}
