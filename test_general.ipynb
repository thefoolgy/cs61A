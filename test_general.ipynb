{
 "cells": [
  {
   "cell_type": "code",
   "execution_count": 1,
   "metadata": {},
   "outputs": [],
   "source": [
    "def insert_into_all(item, nested_list):\n",
    "    \"\"\"Assuming that nested_list is a list of lists, return a new list\n",
    "    consisting of all the lists in nested_list, but with item added to\n",
    "    the front of each.\n",
    "\n",
    "    >>> nl = [[], [1, 2], [3]]\n",
    "    >>> insert_into_all(0, nl)\n",
    "    [[0], [0, 1, 2], [0, 3]]\n",
    "    \"\"\"\n",
    "    return [x.insert(0,item) for x in nested_list]"
   ]
  },
  {
   "cell_type": "code",
   "execution_count": 2,
   "metadata": {},
   "outputs": [],
   "source": [
    "nl = [[], [1, 2], [3]]"
   ]
  },
  {
   "cell_type": "code",
   "execution_count": 3,
   "metadata": {},
   "outputs": [
    {
     "ename": "KeyboardInterrupt",
     "evalue": "",
     "output_type": "error",
     "traceback": [
      "\u001b[0;31m---------------------------------------------------------------------------\u001b[0m",
      "\u001b[0;31mKeyboardInterrupt\u001b[0m                         Traceback (most recent call last)",
      "\u001b[1;32m/Users/gyl/cs61A/test_general.ipynb Cell 3'\u001b[0m in \u001b[0;36m<cell line: 1>\u001b[0;34m()\u001b[0m\n\u001b[0;32m----> <a href='vscode-notebook-cell:/Users/gyl/cs61A/test_general.ipynb#ch0000010?line=0'>1</a>\u001b[0m insert_into_all(\u001b[39m0\u001b[39;49m,nl)\n",
      "\u001b[1;32m/Users/gyl/cs61A/test_general.ipynb Cell 1'\u001b[0m in \u001b[0;36minsert_into_all\u001b[0;34m(item, nested_list)\u001b[0m\n\u001b[1;32m      <a href='vscode-notebook-cell:/Users/gyl/cs61A/test_general.ipynb#ch0000008?line=0'>1</a>\u001b[0m \u001b[39mdef\u001b[39;00m \u001b[39minsert_into_all\u001b[39m(item, nested_list):\n\u001b[1;32m      <a href='vscode-notebook-cell:/Users/gyl/cs61A/test_general.ipynb#ch0000008?line=1'>2</a>\u001b[0m     \u001b[39m\"\"\"Assuming that nested_list is a list of lists, return a new list\u001b[39;00m\n\u001b[1;32m      <a href='vscode-notebook-cell:/Users/gyl/cs61A/test_general.ipynb#ch0000008?line=2'>3</a>\u001b[0m \u001b[39m    consisting of all the lists in nested_list, but with item added to\u001b[39;00m\n\u001b[1;32m      <a href='vscode-notebook-cell:/Users/gyl/cs61A/test_general.ipynb#ch0000008?line=3'>4</a>\u001b[0m \u001b[39m    the front of each.\u001b[39;00m\n\u001b[0;32m   (...)\u001b[0m\n\u001b[1;32m      <a href='vscode-notebook-cell:/Users/gyl/cs61A/test_general.ipynb#ch0000008?line=7'>8</a>\u001b[0m \u001b[39m    [[0], [0, 1, 2], [0, 3]]\u001b[39;00m\n\u001b[1;32m      <a href='vscode-notebook-cell:/Users/gyl/cs61A/test_general.ipynb#ch0000008?line=8'>9</a>\u001b[0m \u001b[39m    \"\"\"\u001b[39;00m\n\u001b[0;32m---> <a href='vscode-notebook-cell:/Users/gyl/cs61A/test_general.ipynb#ch0000008?line=9'>10</a>\u001b[0m     \u001b[39mreturn\u001b[39;00m [nested_list\u001b[39m.\u001b[39minsert(\u001b[39m0\u001b[39m,item) \u001b[39mfor\u001b[39;00m x \u001b[39min\u001b[39;00m nested_list]\n",
      "\u001b[1;32m/Users/gyl/cs61A/test_general.ipynb Cell 1'\u001b[0m in \u001b[0;36m<listcomp>\u001b[0;34m(.0)\u001b[0m\n\u001b[1;32m      <a href='vscode-notebook-cell:/Users/gyl/cs61A/test_general.ipynb#ch0000008?line=0'>1</a>\u001b[0m \u001b[39mdef\u001b[39;00m \u001b[39minsert_into_all\u001b[39m(item, nested_list):\n\u001b[1;32m      <a href='vscode-notebook-cell:/Users/gyl/cs61A/test_general.ipynb#ch0000008?line=1'>2</a>\u001b[0m     \u001b[39m\"\"\"Assuming that nested_list is a list of lists, return a new list\u001b[39;00m\n\u001b[1;32m      <a href='vscode-notebook-cell:/Users/gyl/cs61A/test_general.ipynb#ch0000008?line=2'>3</a>\u001b[0m \u001b[39m    consisting of all the lists in nested_list, but with item added to\u001b[39;00m\n\u001b[1;32m      <a href='vscode-notebook-cell:/Users/gyl/cs61A/test_general.ipynb#ch0000008?line=3'>4</a>\u001b[0m \u001b[39m    the front of each.\u001b[39;00m\n\u001b[0;32m   (...)\u001b[0m\n\u001b[1;32m      <a href='vscode-notebook-cell:/Users/gyl/cs61A/test_general.ipynb#ch0000008?line=7'>8</a>\u001b[0m \u001b[39m    [[0], [0, 1, 2], [0, 3]]\u001b[39;00m\n\u001b[1;32m      <a href='vscode-notebook-cell:/Users/gyl/cs61A/test_general.ipynb#ch0000008?line=8'>9</a>\u001b[0m \u001b[39m    \"\"\"\u001b[39;00m\n\u001b[0;32m---> <a href='vscode-notebook-cell:/Users/gyl/cs61A/test_general.ipynb#ch0000008?line=9'>10</a>\u001b[0m     \u001b[39mreturn\u001b[39;00m [nested_list\u001b[39m.\u001b[39;49minsert(\u001b[39m0\u001b[39;49m,item) \u001b[39mfor\u001b[39;00m x \u001b[39min\u001b[39;00m nested_list]\n",
      "\u001b[0;31mKeyboardInterrupt\u001b[0m: "
     ]
    }
   ],
   "source": [
    "for i in nl:\n",
    "    i."
   ]
  },
  {
   "cell_type": "code",
   "execution_count": null,
   "metadata": {},
   "outputs": [],
   "source": []
  }
 ],
 "metadata": {
  "interpreter": {
   "hash": "31f2aee4e71d21fbe5cf8b01ff0e069b9275f58929596ceb00d14d90e3e16cd6"
  },
  "kernelspec": {
   "display_name": "Python 3.8.9 64-bit",
   "language": "python",
   "name": "python3"
  },
  "language_info": {
   "codemirror_mode": {
    "name": "ipython",
    "version": 3
   },
   "file_extension": ".py",
   "mimetype": "text/x-python",
   "name": "python",
   "nbconvert_exporter": "python",
   "pygments_lexer": "ipython3",
   "version": "3.8.9"
  },
  "orig_nbformat": 4
 },
 "nbformat": 4,
 "nbformat_minor": 2
}
