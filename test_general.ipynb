{
 "cells": [
  {
   "cell_type": "code",
   "execution_count": 40,
   "metadata": {},
   "outputs": [],
   "source": [
    "def compose1(f, g):\n",
    "    \"\"\"\"Return a function h, such that h(x) = f(g(x)).\"\"\"\n",
    "    def h(x):\n",
    "        return f(g(x))\n",
    "    return h\n",
    "\n",
    "def repeated(f, n):\n",
    "    \"\"\"Return the function that computes the nth application of func (recursively!).\n",
    "\n",
    "    >>> add_three = repeated(lambda x: x + 1, 3)\n",
    "    >>> add_three(5)\n",
    "    8\n",
    "    >>> square = lambda x: x ** 2\n",
    "    >>> repeated(square, 2)(5) # square(square(5))\n",
    "    625\n",
    "    >>> repeated(square, 4)(5) # square(square(square(square(5))))\n",
    "    152587890625\n",
    "    >>> repeated(square, 0)(5)\n",
    "    5\n",
    "    >>> from construct_check import check\n",
    "    >>> # ban iteration\n",
    "    >>> check(HW_SOURCE_FILE, 'repeated',\n",
    "    ...       ['For', 'While'])\n",
    "    True\n",
    "    \"\"\"\n",
    "    \"*** YOUR CODE HERE ***\"\n",
    "    def func(x):\n",
    "        if n == 0:\n",
    "            return x\n",
    "        else:\n",
    "            x = f(x)\n",
    "            return repeated(f,n-1)(x)\n",
    "    return func"
   ]
  },
  {
   "cell_type": "code",
   "execution_count": 27,
   "metadata": {},
   "outputs": [],
   "source": [
    "square = lambda x : x ** 2"
   ]
  },
  {
   "cell_type": "code",
   "execution_count": 43,
   "metadata": {},
   "outputs": [
    {
     "data": {
      "text/plain": [
       "152587890625"
      ]
     },
     "execution_count": 43,
     "metadata": {},
     "output_type": "execute_result"
    }
   ],
   "source": [
    "repeated(square, 4)(5)"
   ]
  },
  {
   "cell_type": "code",
   "execution_count": 42,
   "metadata": {},
   "outputs": [
    {
     "data": {
      "text/plain": [
       "8"
      ]
     },
     "execution_count": 42,
     "metadata": {},
     "output_type": "execute_result"
    }
   ],
   "source": [
    "add_three = repeated(lambda x: x + 1, 3)\n",
    "add_three(5)"
   ]
  },
  {
   "cell_type": "code",
   "execution_count": 92,
   "metadata": {},
   "outputs": [],
   "source": [
    "def num_eights(x):\n",
    "    \"\"\"Returns the number of times 8 appears as a digit of x.\n",
    "\n",
    "    >>> num_eights(3)\n",
    "    0\n",
    "    >>> num_eights(8)\n",
    "    1\n",
    "    >>> num_eights(88888888)\n",
    "    8\n",
    "    >>> num_eights(2638)\n",
    "    1\n",
    "    >>> num_eights(86380)\n",
    "    2\n",
    "    >>> num_eights(12345)\n",
    "    0\n",
    "    >>> from construct_check import check\n",
    "    >>> # ban all assignment statements\n",
    "    >>> check(HW_SOURCE_FILE, 'num_eights',\n",
    "    ...       ['Assign', 'AugAssign'])\n",
    "    True\n",
    "    \"\"\"\n",
    "    \"*** YOUR CODE HERE ***\"\n",
    "    if x < 10 and x != 8:\n",
    "        return 0\n",
    "    elif x % 10 == 8:\n",
    "        return num_eights(x //10) + 1\n",
    "    else:\n",
    "        return num_eights(x//10)\n",
    "        "
   ]
  },
  {
   "cell_type": "code",
   "execution_count": 96,
   "metadata": {},
   "outputs": [
    {
     "data": {
      "text/plain": [
       "0"
      ]
     },
     "execution_count": 96,
     "metadata": {},
     "output_type": "execute_result"
    }
   ],
   "source": [
    "num_eights(12345)"
   ]
  },
  {
   "cell_type": "code",
   "execution_count": 88,
   "metadata": {},
   "outputs": [],
   "source": [
    "def compare(x):\n",
    "    if x < 10 and x != 8:\n",
    "        return True\n",
    "    elif x == 8:\n",
    "        return False"
   ]
  },
  {
   "cell_type": "code",
   "execution_count": 89,
   "metadata": {},
   "outputs": [
    {
     "data": {
      "text/plain": [
       "False"
      ]
     },
     "execution_count": 89,
     "metadata": {},
     "output_type": "execute_result"
    }
   ],
   "source": [
    "compare(8)"
   ]
  }
 ],
 "metadata": {
  "interpreter": {
   "hash": "31f2aee4e71d21fbe5cf8b01ff0e069b9275f58929596ceb00d14d90e3e16cd6"
  },
  "kernelspec": {
   "display_name": "Python 3.8.9 64-bit",
   "language": "python",
   "name": "python3"
  },
  "language_info": {
   "codemirror_mode": {
    "name": "ipython",
    "version": 3
   },
   "file_extension": ".py",
   "mimetype": "text/x-python",
   "name": "python",
   "nbconvert_exporter": "python",
   "pygments_lexer": "ipython3",
   "version": "3.8.9"
  },
  "orig_nbformat": 4
 },
 "nbformat": 4,
 "nbformat_minor": 2
}
