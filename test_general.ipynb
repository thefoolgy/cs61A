{
 "cells": [
  {
   "cell_type": "code",
   "execution_count": 14,
   "metadata": {},
   "outputs": [],
   "source": [
    "def g():\n",
    "    return \"mylist\" + str([1,2,3])"
   ]
  },
  {
   "cell_type": "code",
   "execution_count": 15,
   "metadata": {},
   "outputs": [
    {
     "data": {
      "text/plain": [
       "'mylist[1, 2, 3]'"
      ]
     },
     "execution_count": 15,
     "metadata": {},
     "output_type": "execute_result"
    }
   ],
   "source": [
    "g()"
   ]
  },
  {
   "cell_type": "code",
   "execution_count": 33,
   "metadata": {},
   "outputs": [],
   "source": [
    "x = iter([1,2,2,3,4,4,5])"
   ]
  },
  {
   "cell_type": "code",
   "execution_count": 21,
   "metadata": {},
   "outputs": [],
   "source": [
    "def repeated(x):\n",
    "    for i in x:\n",
    "        a = next(x)\n",
    "        if a == next(x):\n",
    "            return a"
   ]
  },
  {
   "cell_type": "code",
   "execution_count": 35,
   "metadata": {},
   "outputs": [
    {
     "name": "stdout",
     "output_type": "stream",
     "text": [
      "True\n",
      "True\n",
      "True\n"
     ]
    }
   ],
   "source": [
    "for i in [1,1,1]:\n",
    "    if i != 1:\n",
    "        print(False)\n",
    "    else:\n",
    "        print(True)"
   ]
  },
  {
   "cell_type": "code",
   "execution_count": 39,
   "metadata": {},
   "outputs": [],
   "source": [
    "def repeated(t, k):\n",
    "    \"\"\"Return the first value in iterator T that appears K times in a row. Iterate through the items such that\n",
    "    if the same iterator is passed into repeated twice, it continues in the second call at the point it left off\n",
    "    in the first.\n",
    "\n",
    "    >>> lst = iter([10, 9, 10, 9, 9, 10, 8, 8, 8, 7])\n",
    "    >>> repeated(lst, 2)\n",
    "    9\n",
    "    >>> lst2 = iter([10, 9, 10, 9, 9, 10, 8, 8, 8, 7])\n",
    "    >>> repeated(lst2, 3)\n",
    "    8\n",
    "    >>> s = iter([3, 2, 2, 2, 1, 2, 1, 4, 4, 5, 5, 5])\n",
    "    >>> repeated(s, 3)\n",
    "    2\n",
    "    >>> repeated(s, 3)\n",
    "    5\n",
    "    >>> s2 = iter([4, 1, 6, 6, 7, 7, 8, 8, 2, 2, 2, 5])\n",
    "    >>> repeated(s2, 3)\n",
    "    2\n",
    "    \"\"\"\n",
    "    assert k > 1\n",
    "    \"*** YOUR CODE HERE ***\"\n",
    "    it_lst = []\n",
    "    a = next(t)\n",
    "    for i in range(k):\n",
    "        it_lst.append(next(t))\n",
    "    if len(set(it_lst)) == 1 and a == it_lst[0]:\n",
    "        return a\n",
    "\n",
    "    "
   ]
  },
  {
   "cell_type": "code",
   "execution_count": 40,
   "metadata": {},
   "outputs": [],
   "source": [
    "lst = iter([10, 9, 10, 9, 9, 10, 8, 8, 8, 7])"
   ]
  },
  {
   "cell_type": "code",
   "execution_count": 41,
   "metadata": {},
   "outputs": [],
   "source": [
    "repeated(lst, 2)"
   ]
  },
  {
   "cell_type": "code",
   "execution_count": 30,
   "metadata": {},
   "outputs": [],
   "source": [
    "for i in x:\n",
    "    print(i)"
   ]
  },
  {
   "cell_type": "code",
   "execution_count": 42,
   "metadata": {},
   "outputs": [],
   "source": [
    "def big(n):\n",
    "    k = 0\n",
    "    while True: yield k; k +=n"
   ]
  },
  {
   "cell_type": "code",
   "execution_count": 43,
   "metadata": {},
   "outputs": [
    {
     "data": {
      "text/plain": [
       "<generator object big at 0x108c0af90>"
      ]
     },
     "execution_count": 43,
     "metadata": {},
     "output_type": "execute_result"
    }
   ],
   "source": [
    "big(2)"
   ]
  },
  {
   "cell_type": "code",
   "execution_count": 67,
   "metadata": {},
   "outputs": [],
   "source": [
    "def merge(a,b):\n",
    "    yield  a[0]\n",
    "    yield  b[0]\n"
   ]
  },
  {
   "cell_type": "code",
   "execution_count": 68,
   "metadata": {},
   "outputs": [],
   "source": [
    "m = merge([1,3],[2,4])"
   ]
  },
  {
   "cell_type": "code",
   "execution_count": 71,
   "metadata": {},
   "outputs": [
    {
     "ename": "StopIteration",
     "evalue": "",
     "output_type": "error",
     "traceback": [
      "\u001b[0;31m---------------------------------------------------------------------------\u001b[0m",
      "\u001b[0;31mStopIteration\u001b[0m                             Traceback (most recent call last)",
      "\u001b[1;32m/Users/gyl/cs61A/test_general.ipynb Cell 14'\u001b[0m in \u001b[0;36m<cell line: 1>\u001b[0;34m()\u001b[0m\n\u001b[0;32m----> <a href='vscode-notebook-cell:/Users/gyl/cs61A/test_general.ipynb#ch0000023?line=0'>1</a>\u001b[0m \u001b[39mnext\u001b[39;49m(m)\n",
      "\u001b[0;31mStopIteration\u001b[0m: "
     ]
    }
   ],
   "source": [
    "next(m)"
   ]
  },
  {
   "cell_type": "code",
   "execution_count": 74,
   "metadata": {},
   "outputs": [],
   "source": [
    "def countdown(k):\n",
    "    if k > 0:\n",
    "        yield k\n",
    "        yield from countdown(k-1)"
   ]
  },
  {
   "cell_type": "code",
   "execution_count": 75,
   "metadata": {},
   "outputs": [
    {
     "data": {
      "text/plain": [
       "[5, 4, 3, 2, 1]"
      ]
     },
     "execution_count": 75,
     "metadata": {},
     "output_type": "execute_result"
    }
   ],
   "source": [
    "list(countdown(5))"
   ]
  },
  {
   "cell_type": "code",
   "execution_count": 166,
   "metadata": {},
   "outputs": [],
   "source": [
    "def merge(incr_a, incr_b):\n",
    "    \"\"\"Yield the elements of strictly increasing iterables incr_a and incr_b, removing\n",
    "    repeats. Assume that incr_a and incr_b have no repeats. incr_a or incr_b may be infinite\n",
    "    sequences.\n",
    "\n",
    "    >>> m = merge([0, 2, 4, 6, 8, 10, 12, 14], [0, 3, 6, 9, 12, 15])\n",
    "    >>> type(m)\n",
    "    <class 'generator'>\n",
    "    >>> list(m)\n",
    "    [0, 2, 3, 4, 6, 8, 9, 10, 12, 14, 15]\n",
    "    >>> def big(n):\n",
    "    ...    k = 0\n",
    "    ...    while True: yield k; k += n\n",
    "    >>> m = merge(big(2), big(3))\n",
    "    >>> [next(m) for _ in range(11)]\n",
    "    [0, 2, 3, 4, 6, 8, 9, 10, 12, 14, 15]\n",
    "    \"\"\"\n",
    "    iter_a, iter_b = iter(incr_a), iter(incr_b)\n",
    "    next_a, next_b = next(iter_a, None), next(iter_b, None)\n",
    "    \"*** YOUR CODE HERE ***\"\n",
    "    while next_a is not None or next_b is not None:\n",
    "        if next_a is None:\n",
    "            yield next_b\n",
    "            next_b = next(iter_b,None)\n",
    "        elif next_b is None:\n",
    "            yield next_a\n",
    "            next_a = next(iter_a,None)\n",
    "        else:\n",
    "            if next_a < next_b:\n",
    "                yield next_a\n",
    "                next_a = next(iter_a,None)\n",
    "            elif next_a > next_b:\n",
    "                yield next_b\n",
    "                next_b = next(iter_b,None)\n",
    "            elif next_a == next_b:\n",
    "                yield next_a\n",
    "                next_a = next(iter_a,None)\n",
    "                next_b = next(iter_b,None)\n",
    "\n"
   ]
  },
  {
   "cell_type": "code",
   "execution_count": 171,
   "metadata": {},
   "outputs": [],
   "source": [
    "m = merge([0, 2, 4, 6, 8, 10, 12, 14], [0, 3, 6, 9, 12, 15])"
   ]
  },
  {
   "cell_type": "code",
   "execution_count": 169,
   "metadata": {},
   "outputs": [],
   "source": [
    "m = merge(big(2), big(3))"
   ]
  },
  {
   "cell_type": "code",
   "execution_count": 172,
   "metadata": {},
   "outputs": [
    {
     "ename": "KeyboardInterrupt",
     "evalue": "",
     "output_type": "error",
     "traceback": [
      "\u001b[0;31m---------------------------------------------------------------------------\u001b[0m",
      "\u001b[0;31mKeyboardInterrupt\u001b[0m                         Traceback (most recent call last)",
      "\u001b[1;32m/Users/gyl/cs61A/test_general.ipynb Cell 20'\u001b[0m in \u001b[0;36m<cell line: 1>\u001b[0;34m()\u001b[0m\n\u001b[0;32m----> <a href='vscode-notebook-cell:/Users/gyl/cs61A/test_general.ipynb#ch0000028?line=0'>1</a>\u001b[0m \u001b[39mlist\u001b[39;49m(m)\n",
      "\u001b[1;32m/Users/gyl/cs61A/test_general.ipynb Cell 17'\u001b[0m in \u001b[0;36mmerge\u001b[0;34m(incr_a, incr_b)\u001b[0m\n\u001b[1;32m     <a href='vscode-notebook-cell:/Users/gyl/cs61A/test_general.ipynb#ch0000026?line=19'>20</a>\u001b[0m \u001b[39m\"\u001b[39m\u001b[39m*** YOUR CODE HERE ***\u001b[39m\u001b[39m\"\u001b[39m\n\u001b[1;32m     <a href='vscode-notebook-cell:/Users/gyl/cs61A/test_general.ipynb#ch0000026?line=20'>21</a>\u001b[0m \u001b[39mwhile\u001b[39;00m next_a \u001b[39mis\u001b[39;00m \u001b[39mnot\u001b[39;00m \u001b[39mNone\u001b[39;00m \u001b[39mor\u001b[39;00m next_b \u001b[39mis\u001b[39;00m \u001b[39mnot\u001b[39;00m \u001b[39mNone\u001b[39;00m:\n\u001b[0;32m---> <a href='vscode-notebook-cell:/Users/gyl/cs61A/test_general.ipynb#ch0000026?line=21'>22</a>\u001b[0m     \u001b[39mif\u001b[39;00m next_a \u001b[39mis\u001b[39;49;00m \u001b[39mNone\u001b[39;49;00m:\n\u001b[1;32m     <a href='vscode-notebook-cell:/Users/gyl/cs61A/test_general.ipynb#ch0000026?line=22'>23</a>\u001b[0m         \u001b[39myield from\u001b[39;00m iter_b\n\u001b[1;32m     <a href='vscode-notebook-cell:/Users/gyl/cs61A/test_general.ipynb#ch0000026?line=23'>24</a>\u001b[0m     \u001b[39melif\u001b[39;00m next_b \u001b[39mis\u001b[39;00m \u001b[39mNone\u001b[39;00m:\n",
      "\u001b[0;31mKeyboardInterrupt\u001b[0m: "
     ]
    }
   ],
   "source": [
    "list(m)"
   ]
  },
  {
   "cell_type": "code",
   "execution_count": 170,
   "metadata": {},
   "outputs": [
    {
     "data": {
      "text/plain": [
       "[0, 2, 3, 4, 6, 8, 9, 10, 12, 14, 15]"
      ]
     },
     "execution_count": 170,
     "metadata": {},
     "output_type": "execute_result"
    }
   ],
   "source": [
    "[next(m) for _ in range(11)]"
   ]
  },
  {
   "cell_type": "code",
   "execution_count": 159,
   "metadata": {},
   "outputs": [
    {
     "name": "stdout",
     "output_type": "stream",
     "text": [
      "2\n"
     ]
    }
   ],
   "source": [
    "x = 1\n",
    "if x == 1:\n",
    "    x = x + 1\n",
    "print(x)"
   ]
  },
  {
   "cell_type": "code",
   "execution_count": null,
   "metadata": {},
   "outputs": [],
   "source": []
  }
 ],
 "metadata": {
  "interpreter": {
   "hash": "31f2aee4e71d21fbe5cf8b01ff0e069b9275f58929596ceb00d14d90e3e16cd6"
  },
  "kernelspec": {
   "display_name": "Python 3.8.9 64-bit",
   "language": "python",
   "name": "python3"
  },
  "language_info": {
   "codemirror_mode": {
    "name": "ipython",
    "version": 3
   },
   "file_extension": ".py",
   "mimetype": "text/x-python",
   "name": "python",
   "nbconvert_exporter": "python",
   "pygments_lexer": "ipython3",
   "version": "3.8.9"
  },
  "orig_nbformat": 4
 },
 "nbformat": 4,
 "nbformat_minor": 2
}
