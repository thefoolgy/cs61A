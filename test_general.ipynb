{
 "cells": [
  {
   "cell_type": "code",
   "execution_count": 14,
   "metadata": {},
   "outputs": [],
   "source": [
    "def tree(root_label, branches=[]):\n",
    "    for branch in branches:\n",
    "        assert is_tree(branch), 'branches must be trees'\n",
    "    return [root_label] + list(branches)\n",
    "    "
   ]
  },
  {
   "cell_type": "code",
   "execution_count": 15,
   "metadata": {},
   "outputs": [],
   "source": [
    "def label(tree):\n",
    "    return tree[0]\n",
    "\n",
    "def branches(tree):\n",
    "    return tree[1:]\n",
    "    "
   ]
  },
  {
   "cell_type": "code",
   "execution_count": 16,
   "metadata": {},
   "outputs": [],
   "source": [
    "def is_tree(tree):\n",
    "    if type(tree) != list or len(tree) < 1:\n",
    "        return False\n",
    "    for branch in branches(tree):\n",
    "        if not is_tree(branch):\n",
    "            return False\n",
    "    return True"
   ]
  },
  {
   "cell_type": "code",
   "execution_count": 17,
   "metadata": {},
   "outputs": [
    {
     "data": {
      "text/plain": [
       "[6]"
      ]
     },
     "execution_count": 17,
     "metadata": {},
     "output_type": "execute_result"
    }
   ],
   "source": [
    "tree(6) "
   ]
  },
  {
   "cell_type": "code",
   "execution_count": 18,
   "metadata": {},
   "outputs": [],
   "source": [
    "def fib_tree(n):\n",
    "    if n == 0 or n == 1:\n",
    "        return tree(n)\n",
    "    else:\n",
    "        left, right = fib_tree(n-2), fib_tree(n-1)\n",
    "        fib_n = label(left) + label(right)\n",
    "        return tree(fib_n, [left, right])"
   ]
  },
  {
   "cell_type": "code",
   "execution_count": 21,
   "metadata": {},
   "outputs": [],
   "source": [
    "def is_leaf(tree):\n",
    "    return not branches(tree)"
   ]
  },
  {
   "cell_type": "code",
   "execution_count": 24,
   "metadata": {},
   "outputs": [],
   "source": [
    "def count_leaves(tree):\n",
    "    if is_leaf(tree):\n",
    "        return 1\n",
    "    else:\n",
    "        branch_counts = [count_leaves(b) for b in branches(tree)]\n",
    "        return sum(branch_counts)"
   ]
  },
  {
   "cell_type": "code",
   "execution_count": 25,
   "metadata": {},
   "outputs": [
    {
     "data": {
      "text/plain": [
       "8"
      ]
     },
     "execution_count": 25,
     "metadata": {},
     "output_type": "execute_result"
    }
   ],
   "source": [
    "count_leaves(fib_tree(5))"
   ]
  },
  {
   "cell_type": "code",
   "execution_count": 17,
   "metadata": {},
   "outputs": [],
   "source": [
    "def falling(n, k):\n",
    "    \"\"\"Compute the falling factorial of n to depth k.\n",
    "\n",
    "    >>> falling(6, 3)  # 6 * 5 * 4\n",
    "    120\n",
    "    >>> falling(4, 3)  # 4 * 3 * 2\n",
    "    24\n",
    "    >>> falling(4, 1)  # 4\n",
    "    4\n",
    "    >>> falling(4, 0)\n",
    "    1\n",
    "    \"\"\"\n",
    "    \"*** YOUR CODE HERE ***\"\n",
    "    if k == 0:\n",
    "        return 1\n",
    "    else:\n",
    "        product, i = n, 1\n",
    "        while i < k:\n",
    "            product = product * (n-i)\n",
    "            i += 1\n",
    "        return product"
   ]
  },
  {
   "cell_type": "code",
   "execution_count": 22,
   "metadata": {},
   "outputs": [],
   "source": [
    "def sum_digits(y):\n",
    "    \"\"\"Sum all the digits of y.\n",
    "\n",
    "    >>> sum_digits(10) # 1 + 0 = 1\n",
    "    1\n",
    "    >>> sum_digits(4224) # 4 + 2 + 2 + 4 = 12\n",
    "    12\n",
    "    >>> sum_digits(1234567890)\n",
    "    45\n",
    "    >>> a = sum_digits(123) # make sure that you are using return rather than print\n",
    "    >>> a\n",
    "    6\n",
    "    \"\"\"\n",
    "    \"*** YOUR CODE HERE ***\"\n",
    "    if y < 10:\n",
    "        return y\n",
    "    else:\n",
    "        all_but_last, last = y//10, y%10\n",
    "        return sum_digits(all_but_last) + last"
   ]
  },
  {
   "cell_type": "code",
   "execution_count": 58,
   "metadata": {},
   "outputs": [],
   "source": [
    "def sum_digits(y):\n",
    "    \"\"\"Sum all the digits of y.\n",
    "\n",
    "    >>> sum_digits(10) # 1 + 0 = 1\n",
    "    1\n",
    "    >>> sum_digits(4224) # 4 + 2 + 2 + 4 = 12\n",
    "    12\n",
    "    >>> sum_digits(1234567890)\n",
    "    45\n",
    "    >>> a = sum_digits(123) # make sure that you are using return rather than print\n",
    "    >>> a\n",
    "    6\n",
    "    \"\"\"\n",
    "    \"*** YOUR CODE HERE ***\"\n",
    "    sum = 0\n",
    "    while y  > 0:\n",
    "        sum = sum + y%10\n",
    "        y = y // 10\n",
    "    return sum\n"
   ]
  },
  {
   "cell_type": "code",
   "execution_count": 64,
   "metadata": {},
   "outputs": [],
   "source": [
    "a = [1,2,3,4]\n"
   ]
  },
  {
   "cell_type": "code",
   "execution_count": 110,
   "metadata": {},
   "outputs": [],
   "source": [
    "def double_eights(n):\n",
    "    \"\"\"Return true if n has two eights in a row.\n",
    "    >>> double_eights(8)\n",
    "    False\n",
    "    >>> double_eights(88)\n",
    "    True\n",
    "    >>> double_eights(2882)\n",
    "    True\n",
    "    >>> double_eights(880088)\n",
    "    True\n",
    "    >>> double_eights(12345)\n",
    "    False\n",
    "    >>> double_eights(80808080)\n",
    "    False\n",
    "    \"\"\"\n",
    "    \"*** YOUR CODE HERE ***\"\n",
    "    list = []\n",
    "    while n > 0:\n",
    "        list.append(n%10)\n",
    "        n = n //10\n",
    "    for i in range(len(list)-1):\n",
    "        if list[i] == 8 ==list[i+1]:\n",
    "            return True\n",
    "    return False"
   ]
  },
  {
   "cell_type": "code",
   "execution_count": 111,
   "metadata": {},
   "outputs": [
    {
     "data": {
      "text/plain": [
       "True"
      ]
     },
     "execution_count": 111,
     "metadata": {},
     "output_type": "execute_result"
    }
   ],
   "source": [
    "double_eights(3883)"
   ]
  }
 ],
 "metadata": {
  "interpreter": {
   "hash": "31f2aee4e71d21fbe5cf8b01ff0e069b9275f58929596ceb00d14d90e3e16cd6"
  },
  "kernelspec": {
   "display_name": "Python 3.8.9 64-bit",
   "language": "python",
   "name": "python3"
  },
  "language_info": {
   "codemirror_mode": {
    "name": "ipython",
    "version": 3
   },
   "file_extension": ".py",
   "mimetype": "text/x-python",
   "name": "python",
   "nbconvert_exporter": "python",
   "pygments_lexer": "ipython3",
   "version": "3.8.9"
  },
  "orig_nbformat": 4
 },
 "nbformat": 4,
 "nbformat_minor": 2
}
